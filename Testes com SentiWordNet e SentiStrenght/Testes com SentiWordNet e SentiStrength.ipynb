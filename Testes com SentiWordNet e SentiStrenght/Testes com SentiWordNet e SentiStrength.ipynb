{
 "cells": [
  {
   "cell_type": "markdown",
   "id": "f603a00d",
   "metadata": {},
   "source": [
    "**-----------------------------------------------------------------------------------------------**<br/>\n",
    "         **Guias utilizados**: https://www.nltk.org/howto/sentiwordnet.html<br/>\n",
    "                               http://sentistrength.wlv.ac.uk<br/>\n",
    "                               https://pypi.org/project/sentistrength/<br/>\n",
    "**-----------------------------------------------------------------------------------------------**"
   ]
  },
  {
   "cell_type": "markdown",
   "id": "928bf302",
   "metadata": {},
   "source": [
    "# Importes necessários"
   ]
  },
  {
   "cell_type": "code",
   "execution_count": 52,
   "id": "e8c41cc7",
   "metadata": {},
   "outputs": [
    {
     "name": "stdout",
     "output_type": "stream",
     "text": [
      "Collecting sentistrength\n",
      "  Downloading sentistrength-0.0.9-py3-none-any.whl (3.8 kB)\n",
      "Installing collected packages: sentistrength\n",
      "Successfully installed sentistrength-0.0.9\n"
     ]
    }
   ],
   "source": [
    "# !pip install googletrans==4.0.0-rc1\n",
    "# !pip install sentistrength"
   ]
  },
  {
   "cell_type": "code",
   "execution_count": 15,
   "id": "a6c855e0",
   "metadata": {},
   "outputs": [],
   "source": [
    "import pandas as pd\n",
    "# import time\n",
    "\n",
    "import nltk\n",
    "from nltk.tokenize import word_tokenize\n",
    "from nltk.corpus import sentiwordnet as swn\n",
    "from nltk.corpus import stopwords as stw\n",
    "from nltk.stem import WordNetLemmatizer\n",
    "\n",
    "from sentistrength import PySentiStr\n",
    "\n",
    "# from googletrans import Translator\n",
    "\n",
    "import os.path"
   ]
  },
  {
   "cell_type": "code",
   "execution_count": 16,
   "id": "8bababd2",
   "metadata": {},
   "outputs": [
    {
     "name": "stderr",
     "output_type": "stream",
     "text": [
      "[nltk_data] Downloading package punkt to\n",
      "[nltk_data]     C:\\Users\\allys\\AppData\\Roaming\\nltk_data...\n",
      "[nltk_data]   Package punkt is already up-to-date!\n",
      "[nltk_data] Downloading package sentiwordnet to\n",
      "[nltk_data]     C:\\Users\\allys\\AppData\\Roaming\\nltk_data...\n",
      "[nltk_data]   Package sentiwordnet is already up-to-date!\n",
      "[nltk_data] Downloading package stopwords to\n",
      "[nltk_data]     C:\\Users\\allys\\AppData\\Roaming\\nltk_data...\n",
      "[nltk_data]   Package stopwords is already up-to-date!\n"
     ]
    },
    {
     "data": {
      "text/plain": [
       "True"
      ]
     },
     "execution_count": 16,
     "metadata": {},
     "output_type": "execute_result"
    }
   ],
   "source": [
    "nltk.download('punkt')\n",
    "nltk.download('sentiwordnet')\n",
    "nltk.download('stopwords')"
   ]
  },
  {
   "cell_type": "markdown",
   "id": "dff73f06",
   "metadata": {},
   "source": [
    "# Lendo DataSet"
   ]
  },
  {
   "cell_type": "code",
   "execution_count": 41,
   "id": "cedd7f5c",
   "metadata": {
    "scrolled": true
   },
   "outputs": [
    {
     "data": {
      "text/html": [
       "<div>\n",
       "<style scoped>\n",
       "    .dataframe tbody tr th:only-of-type {\n",
       "        vertical-align: middle;\n",
       "    }\n",
       "\n",
       "    .dataframe tbody tr th {\n",
       "        vertical-align: top;\n",
       "    }\n",
       "\n",
       "    .dataframe thead th {\n",
       "        text-align: right;\n",
       "    }\n",
       "</style>\n",
       "<table border=\"1\" class=\"dataframe\">\n",
       "  <thead>\n",
       "    <tr style=\"text-align: right;\">\n",
       "      <th></th>\n",
       "      <th>Relatos</th>\n",
       "      <th>Relatos_Traduzidos</th>\n",
       "    </tr>\n",
       "  </thead>\n",
       "  <tbody>\n",
       "    <tr>\n",
       "      <th>0</th>\n",
       "      <td>Bom, o começo é sempre difícil e conturbado, p...</td>\n",
       "      <td>Well, the beginning is always difficult and tr...</td>\n",
       "    </tr>\n",
       "    <tr>\n",
       "      <th>1</th>\n",
       "      <td>Nesse ano que se inicia acredito que viram mui...</td>\n",
       "      <td>This year I begun I believe they saw many chal...</td>\n",
       "    </tr>\n",
       "    <tr>\n",
       "      <th>2</th>\n",
       "      <td>Como eu já disse, nunca vai ser igual o ensino...</td>\n",
       "      <td>As I have already said, it will never be equal...</td>\n",
       "    </tr>\n",
       "    <tr>\n",
       "      <th>3</th>\n",
       "      <td>Minhas expectativas quanto ao ensino médio rem...</td>\n",
       "      <td>My expectations regarding remote high school:\\...</td>\n",
       "    </tr>\n",
       "    <tr>\n",
       "      <th>4</th>\n",
       "      <td>Devido à pandemia, a alternativa mais eficaz d...</td>\n",
       "      <td>Due to the pandemic, the most effective altern...</td>\n",
       "    </tr>\n",
       "    <tr>\n",
       "      <th>...</th>\n",
       "      <td>...</td>\n",
       "      <td>...</td>\n",
       "    </tr>\n",
       "    <tr>\n",
       "      <th>192</th>\n",
       "      <td>Em relação ao ensino remoto eu posso dizer que...</td>\n",
       "      <td>In relation to remote education I can say that...</td>\n",
       "    </tr>\n",
       "    <tr>\n",
       "      <th>193</th>\n",
       "      <td>Espero que o ensino remoto seja eficiente para...</td>\n",
       "      <td>I hope that remote education is efficient for ...</td>\n",
       "    </tr>\n",
       "    <tr>\n",
       "      <th>194</th>\n",
       "      <td>Bem, nos dias de hoje o ensino remoto se torno...</td>\n",
       "      <td>Well, in today's remote education has become a...</td>\n",
       "    </tr>\n",
       "    <tr>\n",
       "      <th>195</th>\n",
       "      <td>Entendo que o ensino remoto é desafiador tanto...</td>\n",
       "      <td>I understand that remote teaching is challengi...</td>\n",
       "    </tr>\n",
       "    <tr>\n",
       "      <th>196</th>\n",
       "      <td>O ensino remoto é algo novo para mim, pois exi...</td>\n",
       "      <td>Remote teaching is something new for me as it ...</td>\n",
       "    </tr>\n",
       "  </tbody>\n",
       "</table>\n",
       "<p>197 rows × 2 columns</p>\n",
       "</div>"
      ],
      "text/plain": [
       "                                               Relatos  \\\n",
       "0    Bom, o começo é sempre difícil e conturbado, p...   \n",
       "1    Nesse ano que se inicia acredito que viram mui...   \n",
       "2    Como eu já disse, nunca vai ser igual o ensino...   \n",
       "3    Minhas expectativas quanto ao ensino médio rem...   \n",
       "4    Devido à pandemia, a alternativa mais eficaz d...   \n",
       "..                                                 ...   \n",
       "192  Em relação ao ensino remoto eu posso dizer que...   \n",
       "193  Espero que o ensino remoto seja eficiente para...   \n",
       "194  Bem, nos dias de hoje o ensino remoto se torno...   \n",
       "195  Entendo que o ensino remoto é desafiador tanto...   \n",
       "196  O ensino remoto é algo novo para mim, pois exi...   \n",
       "\n",
       "                                    Relatos_Traduzidos  \n",
       "0    Well, the beginning is always difficult and tr...  \n",
       "1    This year I begun I believe they saw many chal...  \n",
       "2    As I have already said, it will never be equal...  \n",
       "3    My expectations regarding remote high school:\\...  \n",
       "4    Due to the pandemic, the most effective altern...  \n",
       "..                                                 ...  \n",
       "192  In relation to remote education I can say that...  \n",
       "193  I hope that remote education is efficient for ...  \n",
       "194  Well, in today's remote education has become a...  \n",
       "195  I understand that remote teaching is challengi...  \n",
       "196  Remote teaching is something new for me as it ...  \n",
       "\n",
       "[197 rows x 2 columns]"
      ]
     },
     "execution_count": 41,
     "metadata": {},
     "output_type": "execute_result"
    }
   ],
   "source": [
    "df = pd.read_csv('dados/df.csv')\n",
    "df"
   ]
  },
  {
   "cell_type": "code",
   "execution_count": 39,
   "id": "ab47d126",
   "metadata": {},
   "outputs": [],
   "source": [
    "# del df['Relatos_Traduzidos_Lematizados']\n",
    "# del df['Relatos_tokenizados']\n",
    "\n",
    "# df.head()"
   ]
  },
  {
   "cell_type": "code",
   "execution_count": 40,
   "id": "643ff4d7",
   "metadata": {},
   "outputs": [],
   "source": [
    "df.to_csv('dados/df.csv', index = False)"
   ]
  },
  {
   "cell_type": "markdown",
   "id": "1103e75f",
   "metadata": {},
   "source": [
    "## Traduzindo as linhas do dataset"
   ]
  },
  {
   "cell_type": "code",
   "execution_count": 18,
   "id": "1a6e41bb",
   "metadata": {},
   "outputs": [],
   "source": [
    "def traduzir_relato(relato):\n",
    "    tradutor = Translator()\n",
    "    traducao = tradutor.translate(relato, src = 'pt', dest = 'en')\n",
    "    time.sleep(1) # tentativa de evitar o esgotamento da cota por requição/min\n",
    "    return traducao.text"
   ]
  },
  {
   "cell_type": "code",
   "execution_count": 19,
   "id": "1663eb35",
   "metadata": {},
   "outputs": [],
   "source": [
    "# df['Relatos_Traduzidos'] = df['Relatos'].apply(traduzir_relato)\n",
    "# df"
   ]
  },
  {
   "cell_type": "code",
   "execution_count": 20,
   "id": "b913a955",
   "metadata": {},
   "outputs": [],
   "source": [
    "# df['Relatos_Traduzidos']"
   ]
  },
  {
   "cell_type": "markdown",
   "id": "4ac0c2e6",
   "metadata": {},
   "source": [
    "# Tokenizando e removendo stopwords no dataset"
   ]
  },
  {
   "cell_type": "code",
   "execution_count": 42,
   "id": "2d953ca6",
   "metadata": {},
   "outputs": [],
   "source": [
    "def tokenizar_relato(relato):\n",
    "    relato_tonekizado = []\n",
    "    stop_words = set(stw.words('english'))\n",
    "    tokenizador = word_tokenize(relato)\n",
    "    \n",
    "    for item in tokenizador:\n",
    "        if item.isalpha():\n",
    "            if not item in stop_words:\n",
    "                relato_tonekizado.append(item.lower())\n",
    "#         else:\n",
    "#             print('caracter que nao alfabetico')\n",
    "    frase = ''\n",
    "    \n",
    "    for palavra in relato_tonekizado:\n",
    "        frase += palavra+' '\n",
    "        \n",
    "    return frase"
   ]
  },
  {
   "cell_type": "code",
   "execution_count": 44,
   "id": "040137ef",
   "metadata": {},
   "outputs": [
    {
     "data": {
      "text/plain": [
       "'hello ok '"
      ]
     },
     "execution_count": 44,
     "metadata": {},
     "output_type": "execute_result"
    }
   ],
   "source": [
    "tokenizar_relato('Hello, are you ok?')"
   ]
  },
  {
   "cell_type": "code",
   "execution_count": 54,
   "id": "f1eadcfd",
   "metadata": {},
   "outputs": [
    {
     "data": {
      "text/plain": [
       "'good morning name allyson what name '"
      ]
     },
     "execution_count": 54,
     "metadata": {},
     "output_type": "execute_result"
    }
   ],
   "source": [
    "tokenizar_relato(\"Good morning, my name is Allyson. What's your name?\")"
   ]
  },
  {
   "cell_type": "code",
   "execution_count": 46,
   "id": "5ab1bfac",
   "metadata": {},
   "outputs": [
    {
     "data": {
      "text/html": [
       "<div>\n",
       "<style scoped>\n",
       "    .dataframe tbody tr th:only-of-type {\n",
       "        vertical-align: middle;\n",
       "    }\n",
       "\n",
       "    .dataframe tbody tr th {\n",
       "        vertical-align: top;\n",
       "    }\n",
       "\n",
       "    .dataframe thead th {\n",
       "        text-align: right;\n",
       "    }\n",
       "</style>\n",
       "<table border=\"1\" class=\"dataframe\">\n",
       "  <thead>\n",
       "    <tr style=\"text-align: right;\">\n",
       "      <th></th>\n",
       "      <th>Relatos</th>\n",
       "      <th>Relatos_Traduzidos</th>\n",
       "      <th>Relatos_tokenizados</th>\n",
       "    </tr>\n",
       "  </thead>\n",
       "  <tbody>\n",
       "    <tr>\n",
       "      <th>0</th>\n",
       "      <td>Bom, o começo é sempre difícil e conturbado, p...</td>\n",
       "      <td>Well, the beginning is always difficult and tr...</td>\n",
       "      <td>well beginning always difficult troubled get u...</td>\n",
       "    </tr>\n",
       "    <tr>\n",
       "      <th>1</th>\n",
       "      <td>Nesse ano que se inicia acredito que viram mui...</td>\n",
       "      <td>This year I begun I believe they saw many chal...</td>\n",
       "      <td>this year i begun i believe saw many challenge...</td>\n",
       "    </tr>\n",
       "    <tr>\n",
       "      <th>2</th>\n",
       "      <td>Como eu já disse, nunca vai ser igual o ensino...</td>\n",
       "      <td>As I have already said, it will never be equal...</td>\n",
       "      <td>as i already said never equal teaching i great...</td>\n",
       "    </tr>\n",
       "    <tr>\n",
       "      <th>3</th>\n",
       "      <td>Minhas expectativas quanto ao ensino médio rem...</td>\n",
       "      <td>My expectations regarding remote high school:\\...</td>\n",
       "      <td>my expectations regarding remote high school m...</td>\n",
       "    </tr>\n",
       "    <tr>\n",
       "      <th>4</th>\n",
       "      <td>Devido à pandemia, a alternativa mais eficaz d...</td>\n",
       "      <td>Due to the pandemic, the most effective altern...</td>\n",
       "      <td>due pandemic effective alternative study work ...</td>\n",
       "    </tr>\n",
       "  </tbody>\n",
       "</table>\n",
       "</div>"
      ],
      "text/plain": [
       "                                             Relatos  \\\n",
       "0  Bom, o começo é sempre difícil e conturbado, p...   \n",
       "1  Nesse ano que se inicia acredito que viram mui...   \n",
       "2  Como eu já disse, nunca vai ser igual o ensino...   \n",
       "3  Minhas expectativas quanto ao ensino médio rem...   \n",
       "4  Devido à pandemia, a alternativa mais eficaz d...   \n",
       "\n",
       "                                  Relatos_Traduzidos  \\\n",
       "0  Well, the beginning is always difficult and tr...   \n",
       "1  This year I begun I believe they saw many chal...   \n",
       "2  As I have already said, it will never be equal...   \n",
       "3  My expectations regarding remote high school:\\...   \n",
       "4  Due to the pandemic, the most effective altern...   \n",
       "\n",
       "                                 Relatos_tokenizados  \n",
       "0  well beginning always difficult troubled get u...  \n",
       "1  this year i begun i believe saw many challenge...  \n",
       "2  as i already said never equal teaching i great...  \n",
       "3  my expectations regarding remote high school m...  \n",
       "4  due pandemic effective alternative study work ...  "
      ]
     },
     "execution_count": 46,
     "metadata": {},
     "output_type": "execute_result"
    }
   ],
   "source": [
    "df['Relatos_tokenizados'] = df['Relatos_Traduzidos'].apply(tokenizar_relato)\n",
    "df.head()"
   ]
  },
  {
   "cell_type": "code",
   "execution_count": 24,
   "id": "4ccc3562",
   "metadata": {},
   "outputs": [],
   "source": [
    "# del df['Relatos_Traduzidos_Lematizados']\n",
    "\n",
    "# df.head()"
   ]
  },
  {
   "cell_type": "markdown",
   "id": "49c6c11f",
   "metadata": {},
   "source": [
    "# Lematizando as traduções"
   ]
  },
  {
   "cell_type": "code",
   "execution_count": 47,
   "id": "8929bddb",
   "metadata": {},
   "outputs": [
    {
     "data": {
      "text/html": [
       "<div>\n",
       "<style scoped>\n",
       "    .dataframe tbody tr th:only-of-type {\n",
       "        vertical-align: middle;\n",
       "    }\n",
       "\n",
       "    .dataframe tbody tr th {\n",
       "        vertical-align: top;\n",
       "    }\n",
       "\n",
       "    .dataframe thead th {\n",
       "        text-align: right;\n",
       "    }\n",
       "</style>\n",
       "<table border=\"1\" class=\"dataframe\">\n",
       "  <thead>\n",
       "    <tr style=\"text-align: right;\">\n",
       "      <th></th>\n",
       "      <th>Relatos</th>\n",
       "      <th>Relatos_Traduzidos</th>\n",
       "      <th>Relatos_tokenizados</th>\n",
       "    </tr>\n",
       "  </thead>\n",
       "  <tbody>\n",
       "    <tr>\n",
       "      <th>0</th>\n",
       "      <td>Bom, o começo é sempre difícil e conturbado, p...</td>\n",
       "      <td>Well, the beginning is always difficult and tr...</td>\n",
       "      <td>well beginning always difficult troubled get u...</td>\n",
       "    </tr>\n",
       "    <tr>\n",
       "      <th>1</th>\n",
       "      <td>Nesse ano que se inicia acredito que viram mui...</td>\n",
       "      <td>This year I begun I believe they saw many chal...</td>\n",
       "      <td>this year i begun i believe saw many challenge...</td>\n",
       "    </tr>\n",
       "    <tr>\n",
       "      <th>2</th>\n",
       "      <td>Como eu já disse, nunca vai ser igual o ensino...</td>\n",
       "      <td>As I have already said, it will never be equal...</td>\n",
       "      <td>as i already said never equal teaching i great...</td>\n",
       "    </tr>\n",
       "    <tr>\n",
       "      <th>3</th>\n",
       "      <td>Minhas expectativas quanto ao ensino médio rem...</td>\n",
       "      <td>My expectations regarding remote high school:\\...</td>\n",
       "      <td>my expectations regarding remote high school m...</td>\n",
       "    </tr>\n",
       "    <tr>\n",
       "      <th>4</th>\n",
       "      <td>Devido à pandemia, a alternativa mais eficaz d...</td>\n",
       "      <td>Due to the pandemic, the most effective altern...</td>\n",
       "      <td>due pandemic effective alternative study work ...</td>\n",
       "    </tr>\n",
       "  </tbody>\n",
       "</table>\n",
       "</div>"
      ],
      "text/plain": [
       "                                             Relatos  \\\n",
       "0  Bom, o começo é sempre difícil e conturbado, p...   \n",
       "1  Nesse ano que se inicia acredito que viram mui...   \n",
       "2  Como eu já disse, nunca vai ser igual o ensino...   \n",
       "3  Minhas expectativas quanto ao ensino médio rem...   \n",
       "4  Devido à pandemia, a alternativa mais eficaz d...   \n",
       "\n",
       "                                  Relatos_Traduzidos  \\\n",
       "0  Well, the beginning is always difficult and tr...   \n",
       "1  This year I begun I believe they saw many chal...   \n",
       "2  As I have already said, it will never be equal...   \n",
       "3  My expectations regarding remote high school:\\...   \n",
       "4  Due to the pandemic, the most effective altern...   \n",
       "\n",
       "                                 Relatos_tokenizados  \n",
       "0  well beginning always difficult troubled get u...  \n",
       "1  this year i begun i believe saw many challenge...  \n",
       "2  as i already said never equal teaching i great...  \n",
       "3  my expectations regarding remote high school m...  \n",
       "4  due pandemic effective alternative study work ...  "
      ]
     },
     "execution_count": 47,
     "metadata": {},
     "output_type": "execute_result"
    }
   ],
   "source": [
    "df.head()"
   ]
  },
  {
   "cell_type": "code",
   "execution_count": 48,
   "id": "a11db3f0",
   "metadata": {},
   "outputs": [],
   "source": [
    "def lematizar_relato(relato):\n",
    "    lematizador = WordNetLemmatizer()\n",
    "    relato_lematizado = lematizador.lemmatize(relato)\n",
    "    return relato_lematizado"
   ]
  },
  {
   "cell_type": "code",
   "execution_count": 50,
   "id": "8106deee",
   "metadata": {},
   "outputs": [
    {
     "data": {
      "text/html": [
       "<div>\n",
       "<style scoped>\n",
       "    .dataframe tbody tr th:only-of-type {\n",
       "        vertical-align: middle;\n",
       "    }\n",
       "\n",
       "    .dataframe tbody tr th {\n",
       "        vertical-align: top;\n",
       "    }\n",
       "\n",
       "    .dataframe thead th {\n",
       "        text-align: right;\n",
       "    }\n",
       "</style>\n",
       "<table border=\"1\" class=\"dataframe\">\n",
       "  <thead>\n",
       "    <tr style=\"text-align: right;\">\n",
       "      <th></th>\n",
       "      <th>Relatos</th>\n",
       "      <th>Relatos_Traduzidos</th>\n",
       "      <th>Relatos_tokenizados</th>\n",
       "      <th>Relatos_Traduzidos_Lematizados</th>\n",
       "    </tr>\n",
       "  </thead>\n",
       "  <tbody>\n",
       "    <tr>\n",
       "      <th>0</th>\n",
       "      <td>Bom, o começo é sempre difícil e conturbado, p...</td>\n",
       "      <td>Well, the beginning is always difficult and tr...</td>\n",
       "      <td>well beginning always difficult troubled get u...</td>\n",
       "      <td>well beginning always difficult troubled get u...</td>\n",
       "    </tr>\n",
       "    <tr>\n",
       "      <th>1</th>\n",
       "      <td>Nesse ano que se inicia acredito que viram mui...</td>\n",
       "      <td>This year I begun I believe they saw many chal...</td>\n",
       "      <td>this year i begun i believe saw many challenge...</td>\n",
       "      <td>this year i begun i believe saw many challenge...</td>\n",
       "    </tr>\n",
       "    <tr>\n",
       "      <th>2</th>\n",
       "      <td>Como eu já disse, nunca vai ser igual o ensino...</td>\n",
       "      <td>As I have already said, it will never be equal...</td>\n",
       "      <td>as i already said never equal teaching i great...</td>\n",
       "      <td>as i already said never equal teaching i great...</td>\n",
       "    </tr>\n",
       "    <tr>\n",
       "      <th>3</th>\n",
       "      <td>Minhas expectativas quanto ao ensino médio rem...</td>\n",
       "      <td>My expectations regarding remote high school:\\...</td>\n",
       "      <td>my expectations regarding remote high school m...</td>\n",
       "      <td>my expectations regarding remote high school m...</td>\n",
       "    </tr>\n",
       "    <tr>\n",
       "      <th>4</th>\n",
       "      <td>Devido à pandemia, a alternativa mais eficaz d...</td>\n",
       "      <td>Due to the pandemic, the most effective altern...</td>\n",
       "      <td>due pandemic effective alternative study work ...</td>\n",
       "      <td>due pandemic effective alternative study work ...</td>\n",
       "    </tr>\n",
       "  </tbody>\n",
       "</table>\n",
       "</div>"
      ],
      "text/plain": [
       "                                             Relatos  \\\n",
       "0  Bom, o começo é sempre difícil e conturbado, p...   \n",
       "1  Nesse ano que se inicia acredito que viram mui...   \n",
       "2  Como eu já disse, nunca vai ser igual o ensino...   \n",
       "3  Minhas expectativas quanto ao ensino médio rem...   \n",
       "4  Devido à pandemia, a alternativa mais eficaz d...   \n",
       "\n",
       "                                  Relatos_Traduzidos  \\\n",
       "0  Well, the beginning is always difficult and tr...   \n",
       "1  This year I begun I believe they saw many chal...   \n",
       "2  As I have already said, it will never be equal...   \n",
       "3  My expectations regarding remote high school:\\...   \n",
       "4  Due to the pandemic, the most effective altern...   \n",
       "\n",
       "                                 Relatos_tokenizados  \\\n",
       "0  well beginning always difficult troubled get u...   \n",
       "1  this year i begun i believe saw many challenge...   \n",
       "2  as i already said never equal teaching i great...   \n",
       "3  my expectations regarding remote high school m...   \n",
       "4  due pandemic effective alternative study work ...   \n",
       "\n",
       "                      Relatos_Traduzidos_Lematizados  \n",
       "0  well beginning always difficult troubled get u...  \n",
       "1  this year i begun i believe saw many challenge...  \n",
       "2  as i already said never equal teaching i great...  \n",
       "3  my expectations regarding remote high school m...  \n",
       "4  due pandemic effective alternative study work ...  "
      ]
     },
     "execution_count": 50,
     "metadata": {},
     "output_type": "execute_result"
    }
   ],
   "source": [
    "df['Relatos_Traduzidos_Lematizados'] = df['Relatos_tokenizados'].apply(lematizar_relato)\n",
    "df.head()"
   ]
  },
  {
   "cell_type": "code",
   "execution_count": 28,
   "id": "46b7f807",
   "metadata": {},
   "outputs": [],
   "source": [
    "# df.to_csv('dados/df.csv', index = False)"
   ]
  },
  {
   "cell_type": "code",
   "execution_count": 51,
   "id": "e1aa8226",
   "metadata": {},
   "outputs": [
    {
     "data": {
      "text/plain": [
       "'corpus'"
      ]
     },
     "execution_count": 51,
     "metadata": {},
     "output_type": "execute_result"
    }
   ],
   "source": [
    "lematizar_relato('corpora')"
   ]
  },
  {
   "cell_type": "code",
   "execution_count": 52,
   "id": "d887afcd",
   "metadata": {},
   "outputs": [
    {
     "data": {
      "text/plain": [
       "'beginning'"
      ]
     },
     "execution_count": 52,
     "metadata": {},
     "output_type": "execute_result"
    }
   ],
   "source": [
    "lematizar_relato('beginning')"
   ]
  },
  {
   "cell_type": "code",
   "execution_count": 53,
   "id": "6076ff07",
   "metadata": {},
   "outputs": [
    {
     "data": {
      "text/plain": [
       "'begin'"
      ]
     },
     "execution_count": 53,
     "metadata": {},
     "output_type": "execute_result"
    }
   ],
   "source": [
    "lematizar_relato('begins')"
   ]
  },
  {
   "cell_type": "markdown",
   "id": "f0a6b118",
   "metadata": {},
   "source": [
    "# Trabalhando com o SentiWordNet"
   ]
  },
  {
   "cell_type": "code",
   "execution_count": 37,
   "id": "21a87793",
   "metadata": {},
   "outputs": [],
   "source": [
    "def analisar_sentimentos(relato):\n",
    "#     analisador = \n",
    "    print(list(swn.senti_synsets(relato)))\n",
    "#     print(analisador)\n",
    "#     print(f'Pontuação positiva: {analisador.pos_score()}')\n",
    "#     print(f'Pontuação negativa: {analisador.neg_score()}')    \n",
    "#     print(f'Pontuação da objetividade: {analisador.obg_score()}')    "
   ]
  },
  {
   "cell_type": "code",
   "execution_count": 38,
   "id": "3de641ea",
   "metadata": {},
   "outputs": [],
   "source": [
    "# 'well the beginning is always difficult and troubled but we get used to not have the taste of class for now you weight on it but i hope you can adapt and learn a lot'"
   ]
  },
  {
   "cell_type": "code",
   "execution_count": 39,
   "id": "0fc6e5cb",
   "metadata": {},
   "outputs": [
    {
     "name": "stdout",
     "output_type": "stream",
     "text": [
      "[SentiSynset('well.n.01'), SentiSynset('well.n.02'), SentiSynset('well.n.03'), SentiSynset('well.n.04'), SentiSynset('well.n.05'), SentiSynset('well.v.01'), SentiSynset('well.a.01'), SentiSynset('good.s.13'), SentiSynset('well.s.03'), SentiSynset('well.r.01'), SentiSynset('well.r.02'), SentiSynset('well.r.03'), SentiSynset('well.r.04'), SentiSynset('well.r.05'), SentiSynset('well.r.06'), SentiSynset('well.r.07'), SentiSynset('well.r.08'), SentiSynset('well.r.09'), SentiSynset('well.r.10'), SentiSynset('well.r.11'), SentiSynset('well.r.12'), SentiSynset('well.r.13')]\n"
     ]
    }
   ],
   "source": [
    "analisar_sentimentos(\"well\")"
   ]
  },
  {
   "cell_type": "code",
   "execution_count": 40,
   "id": "2869427f",
   "metadata": {},
   "outputs": [
    {
     "name": "stdout",
     "output_type": "stream",
     "text": [
      "[SentiSynset('beginning.n.01'), SentiSynset('beginning.n.02'), SentiSynset('beginning.n.03'), SentiSynset('beginning.n.04'), SentiSynset('beginning.n.05'), SentiSynset('get_down.v.07'), SentiSynset('begin.v.02'), SentiSynset('begin.v.03'), SentiSynset('begin.v.04'), SentiSynset('begin.v.05'), SentiSynset('begin.v.06'), SentiSynset('begin.v.07'), SentiSynset('begin.v.08'), SentiSynset('begin.v.09'), SentiSynset('begin.v.10'), SentiSynset('beginning.s.01')]\n"
     ]
    }
   ],
   "source": [
    "analisar_sentimentos(\"beginning\")"
   ]
  },
  {
   "cell_type": "code",
   "execution_count": 41,
   "id": "8278eb50",
   "metadata": {},
   "outputs": [
    {
     "name": "stdout",
     "output_type": "stream",
     "text": [
      "[SentiSynset('be.v.01'), SentiSynset('be.v.02'), SentiSynset('be.v.03'), SentiSynset('exist.v.01'), SentiSynset('be.v.05'), SentiSynset('equal.v.01'), SentiSynset('constitute.v.01'), SentiSynset('be.v.08'), SentiSynset('embody.v.02'), SentiSynset('be.v.10'), SentiSynset('be.v.11'), SentiSynset('be.v.12'), SentiSynset('cost.v.01')]\n"
     ]
    }
   ],
   "source": [
    "analisar_sentimentos(\"is\")"
   ]
  },
  {
   "cell_type": "code",
   "execution_count": 42,
   "id": "03bb66cb",
   "metadata": {},
   "outputs": [
    {
     "name": "stdout",
     "output_type": "stream",
     "text": [
      "[SentiSynset('always.r.01'), SentiSynset('constantly.r.01'), SentiSynset('constantly.r.02'), SentiSynset('always.r.04'), SentiSynset('always.r.05')]\n"
     ]
    }
   ],
   "source": [
    "analisar_sentimentos(\"always\")"
   ]
  },
  {
   "cell_type": "code",
   "execution_count": 44,
   "id": "86f130ed",
   "metadata": {},
   "outputs": [
    {
     "name": "stdout",
     "output_type": "stream",
     "text": [
      "<be.v.01: PosScore=0.25 NegScore=0.125>\n"
     ]
    }
   ],
   "source": [
    "analisador = swn.senti_synset('be.v.01')\n",
    "print(analisador)"
   ]
  },
  {
   "cell_type": "code",
   "execution_count": 45,
   "id": "e35771e9",
   "metadata": {},
   "outputs": [
    {
     "data": {
      "text/plain": [
       "0.125"
      ]
     },
     "execution_count": 45,
     "metadata": {},
     "output_type": "execute_result"
    }
   ],
   "source": [
    "analisador.neg_score()"
   ]
  },
  {
   "cell_type": "code",
   "execution_count": 46,
   "id": "63119704",
   "metadata": {},
   "outputs": [
    {
     "data": {
      "text/plain": [
       "0.25"
      ]
     },
     "execution_count": 46,
     "metadata": {},
     "output_type": "execute_result"
    }
   ],
   "source": [
    "analisador.pos_score()"
   ]
  },
  {
   "cell_type": "code",
   "execution_count": 47,
   "id": "ceaa9407",
   "metadata": {},
   "outputs": [
    {
     "data": {
      "text/plain": [
       "0.625"
      ]
     },
     "execution_count": 47,
     "metadata": {},
     "output_type": "execute_result"
    }
   ],
   "source": [
    "analisador.obj_score()"
   ]
  },
  {
   "cell_type": "markdown",
   "id": "7137856c",
   "metadata": {},
   "source": [
    "### Relatório:\n",
    "> **Para se trabalhar com o SentiWordNet será necessário criar algum tipo de IA que consiga entender qual o possível sentido daquela palavra no período, e ao fazer a busca da pontuação no léxico, dentro da lista de possíveis sentidos daquela palavra que irá retorná-la, verificar qual resultado é o que se melhor encaixa naquela pesquisa.**\n",
    ">> **Seus críterios para classificar a polaridade de uma palavra é semelhante ao VaderSentiment, sendo a soma dos seus críterios sempre igual a 1. Seus críterios definidos são pontuações negativa, positiva e objetividade.**"
   ]
  },
  {
   "cell_type": "markdown",
   "id": "00a18a07",
   "metadata": {},
   "source": [
    "# Trabalhando com o SentiStrenght"
   ]
  },
  {
   "cell_type": "code",
   "execution_count": 55,
   "id": "f89510ac",
   "metadata": {},
   "outputs": [],
   "source": [
    "Senti_Strength_Location = 'C:/Users/allys/Projetos Python/NLP - Natural language processsing/Testes com SentiWordNet e SentiStrenght/SentiStrengthCom.jar'\n",
    "Senti_Strength_Language_Folder = 'C:/Users/allys/anaconda3/Lib/site-packages/sentistrength'"
   ]
  },
  {
   "cell_type": "code",
   "execution_count": 56,
   "id": "2ce49e72",
   "metadata": {},
   "outputs": [],
   "source": [
    "if not os.path.isfile(Senti_Strength_Location):\n",
    "    print(f'SentiStrength não foi encontrado no: {Senti_Strength_Location}')\n",
    "if not os.path.isdir(Senti_Strength_Language_Folder):\n",
    "    print(f'SentiStrength pasta de dados não foi encontrado no: {Senti_Strength_Language_Folder}')"
   ]
  },
  {
   "cell_type": "code",
   "execution_count": 57,
   "id": "ca0619c2",
   "metadata": {},
   "outputs": [],
   "source": [
    "analisador = PySentiStr()\n",
    "analisador.setSentiStrengthPath(Senti_Strength_Location)\n",
    "analisador.setSentiStrengthLanguageFolderPath(Senti_Strength_Language_Folder)"
   ]
  },
  {
   "cell_type": "code",
   "execution_count": 58,
   "id": "31af85b7",
   "metadata": {},
   "outputs": [
    {
     "name": "stdout",
     "output_type": "stream",
     "text": [
      "[3]\n"
     ]
    }
   ],
   "source": [
    "teste = analisador.getSentiment('what a fucking lovely day')\n",
    "print(teste)"
   ]
  },
  {
   "cell_type": "code",
   "execution_count": 59,
   "id": "513994ca",
   "metadata": {},
   "outputs": [],
   "source": [
    "def analisar_sentimentos(relato):\n",
    "    analisador = PySentiStr()\n",
    "    analisador.setSentiStrengthPath(Senti_Strength_Location)\n",
    "    analisador.setSentiStrengthLanguageFolderPath(Senti_Strength_Language_Folder)\n",
    "        \n",
    "    return analisador.getSentiment(relato)[0] "
   ]
  },
  {
   "cell_type": "code",
   "execution_count": 60,
   "id": "08be4812",
   "metadata": {},
   "outputs": [
    {
     "data": {
      "text/html": [
       "<div>\n",
       "<style scoped>\n",
       "    .dataframe tbody tr th:only-of-type {\n",
       "        vertical-align: middle;\n",
       "    }\n",
       "\n",
       "    .dataframe tbody tr th {\n",
       "        vertical-align: top;\n",
       "    }\n",
       "\n",
       "    .dataframe thead th {\n",
       "        text-align: right;\n",
       "    }\n",
       "</style>\n",
       "<table border=\"1\" class=\"dataframe\">\n",
       "  <thead>\n",
       "    <tr style=\"text-align: right;\">\n",
       "      <th></th>\n",
       "      <th>Relatos</th>\n",
       "      <th>Relatos_Traduzidos</th>\n",
       "      <th>Relatos_tokenizados</th>\n",
       "      <th>Relatos_Traduzidos_Lematizados</th>\n",
       "    </tr>\n",
       "  </thead>\n",
       "  <tbody>\n",
       "    <tr>\n",
       "      <th>0</th>\n",
       "      <td>Bom, o começo é sempre difícil e conturbado, p...</td>\n",
       "      <td>Well, the beginning is always difficult and tr...</td>\n",
       "      <td>well beginning always difficult troubled get u...</td>\n",
       "      <td>well beginning always difficult troubled get u...</td>\n",
       "    </tr>\n",
       "    <tr>\n",
       "      <th>1</th>\n",
       "      <td>Nesse ano que se inicia acredito que viram mui...</td>\n",
       "      <td>This year I begun I believe they saw many chal...</td>\n",
       "      <td>this year i begun i believe saw many challenge...</td>\n",
       "      <td>this year i begun i believe saw many challenge...</td>\n",
       "    </tr>\n",
       "    <tr>\n",
       "      <th>2</th>\n",
       "      <td>Como eu já disse, nunca vai ser igual o ensino...</td>\n",
       "      <td>As I have already said, it will never be equal...</td>\n",
       "      <td>as i already said never equal teaching i great...</td>\n",
       "      <td>as i already said never equal teaching i great...</td>\n",
       "    </tr>\n",
       "    <tr>\n",
       "      <th>3</th>\n",
       "      <td>Minhas expectativas quanto ao ensino médio rem...</td>\n",
       "      <td>My expectations regarding remote high school:\\...</td>\n",
       "      <td>my expectations regarding remote high school m...</td>\n",
       "      <td>my expectations regarding remote high school m...</td>\n",
       "    </tr>\n",
       "    <tr>\n",
       "      <th>4</th>\n",
       "      <td>Devido à pandemia, a alternativa mais eficaz d...</td>\n",
       "      <td>Due to the pandemic, the most effective altern...</td>\n",
       "      <td>due pandemic effective alternative study work ...</td>\n",
       "      <td>due pandemic effective alternative study work ...</td>\n",
       "    </tr>\n",
       "  </tbody>\n",
       "</table>\n",
       "</div>"
      ],
      "text/plain": [
       "                                             Relatos  \\\n",
       "0  Bom, o começo é sempre difícil e conturbado, p...   \n",
       "1  Nesse ano que se inicia acredito que viram mui...   \n",
       "2  Como eu já disse, nunca vai ser igual o ensino...   \n",
       "3  Minhas expectativas quanto ao ensino médio rem...   \n",
       "4  Devido à pandemia, a alternativa mais eficaz d...   \n",
       "\n",
       "                                  Relatos_Traduzidos  \\\n",
       "0  Well, the beginning is always difficult and tr...   \n",
       "1  This year I begun I believe they saw many chal...   \n",
       "2  As I have already said, it will never be equal...   \n",
       "3  My expectations regarding remote high school:\\...   \n",
       "4  Due to the pandemic, the most effective altern...   \n",
       "\n",
       "                                 Relatos_tokenizados  \\\n",
       "0  well beginning always difficult troubled get u...   \n",
       "1  this year i begun i believe saw many challenge...   \n",
       "2  as i already said never equal teaching i great...   \n",
       "3  my expectations regarding remote high school m...   \n",
       "4  due pandemic effective alternative study work ...   \n",
       "\n",
       "                      Relatos_Traduzidos_Lematizados  \n",
       "0  well beginning always difficult troubled get u...  \n",
       "1  this year i begun i believe saw many challenge...  \n",
       "2  as i already said never equal teaching i great...  \n",
       "3  my expectations regarding remote high school m...  \n",
       "4  due pandemic effective alternative study work ...  "
      ]
     },
     "execution_count": 60,
     "metadata": {},
     "output_type": "execute_result"
    }
   ],
   "source": [
    "df.head()"
   ]
  },
  {
   "cell_type": "code",
   "execution_count": 61,
   "id": "04f14aa5",
   "metadata": {},
   "outputs": [
    {
     "data": {
      "text/html": [
       "<div>\n",
       "<style scoped>\n",
       "    .dataframe tbody tr th:only-of-type {\n",
       "        vertical-align: middle;\n",
       "    }\n",
       "\n",
       "    .dataframe tbody tr th {\n",
       "        vertical-align: top;\n",
       "    }\n",
       "\n",
       "    .dataframe thead th {\n",
       "        text-align: right;\n",
       "    }\n",
       "</style>\n",
       "<table border=\"1\" class=\"dataframe\">\n",
       "  <thead>\n",
       "    <tr style=\"text-align: right;\">\n",
       "      <th></th>\n",
       "      <th>Relatos</th>\n",
       "      <th>Relatos_Traduzidos</th>\n",
       "      <th>Relatos_tokenizados</th>\n",
       "      <th>Relatos_Traduzidos_Lematizados</th>\n",
       "      <th>Relatos_com_SentiStrength</th>\n",
       "    </tr>\n",
       "  </thead>\n",
       "  <tbody>\n",
       "    <tr>\n",
       "      <th>0</th>\n",
       "      <td>Bom, o começo é sempre difícil e conturbado, p...</td>\n",
       "      <td>Well, the beginning is always difficult and tr...</td>\n",
       "      <td>well beginning always difficult troubled get u...</td>\n",
       "      <td>well beginning always difficult troubled get u...</td>\n",
       "      <td>1</td>\n",
       "    </tr>\n",
       "    <tr>\n",
       "      <th>1</th>\n",
       "      <td>Nesse ano que se inicia acredito que viram mui...</td>\n",
       "      <td>This year I begun I believe they saw many chal...</td>\n",
       "      <td>this year i begun i believe saw many challenge...</td>\n",
       "      <td>this year i begun i believe saw many challenge...</td>\n",
       "      <td>0</td>\n",
       "    </tr>\n",
       "    <tr>\n",
       "      <th>2</th>\n",
       "      <td>Como eu já disse, nunca vai ser igual o ensino...</td>\n",
       "      <td>As I have already said, it will never be equal...</td>\n",
       "      <td>as i already said never equal teaching i great...</td>\n",
       "      <td>as i already said never equal teaching i great...</td>\n",
       "      <td>2</td>\n",
       "    </tr>\n",
       "    <tr>\n",
       "      <th>3</th>\n",
       "      <td>Minhas expectativas quanto ao ensino médio rem...</td>\n",
       "      <td>My expectations regarding remote high school:\\...</td>\n",
       "      <td>my expectations regarding remote high school m...</td>\n",
       "      <td>my expectations regarding remote high school m...</td>\n",
       "      <td>2</td>\n",
       "    </tr>\n",
       "    <tr>\n",
       "      <th>4</th>\n",
       "      <td>Devido à pandemia, a alternativa mais eficaz d...</td>\n",
       "      <td>Due to the pandemic, the most effective altern...</td>\n",
       "      <td>due pandemic effective alternative study work ...</td>\n",
       "      <td>due pandemic effective alternative study work ...</td>\n",
       "      <td>1</td>\n",
       "    </tr>\n",
       "    <tr>\n",
       "      <th>5</th>\n",
       "      <td>Eu espero que seja organizado pra não sobrecar...</td>\n",
       "      <td>I hope it is organized not to overload the stu...</td>\n",
       "      <td>i hope organized overload student teacher i fe...</td>\n",
       "      <td>i hope organized overload student teacher i fe...</td>\n",
       "      <td>2</td>\n",
       "    </tr>\n",
       "    <tr>\n",
       "      <th>6</th>\n",
       "      <td>Conseguir compreender os assuntos de forma clara.</td>\n",
       "      <td>To understand the subjects clearly.</td>\n",
       "      <td>to understand subjects clearly</td>\n",
       "      <td>to understand subjects clearly</td>\n",
       "      <td>0</td>\n",
       "    </tr>\n",
       "    <tr>\n",
       "      <th>7</th>\n",
       "      <td>Acredito que com a experiência do ano passado,...</td>\n",
       "      <td>I believe that with the experience of last yea...</td>\n",
       "      <td>i believe experience last year planned easier ...</td>\n",
       "      <td>i believe experience last year planned easier ...</td>\n",
       "      <td>0</td>\n",
       "    </tr>\n",
       "    <tr>\n",
       "      <th>8</th>\n",
       "      <td>Espero que possa disponibilizar um ensino de q...</td>\n",
       "      <td>I hope it can make quality teaching and access...</td>\n",
       "      <td>i hope make quality teaching access everyone a...</td>\n",
       "      <td>i hope make quality teaching access everyone a...</td>\n",
       "      <td>1</td>\n",
       "    </tr>\n",
       "    <tr>\n",
       "      <th>9</th>\n",
       "      <td>Aula online na minha opinião são um desafio, e...</td>\n",
       "      <td>Online class in my opinion are a challenge, es...</td>\n",
       "      <td>online class opinion challenge especially stud...</td>\n",
       "      <td>online class opinion challenge especially stud...</td>\n",
       "      <td>1</td>\n",
       "    </tr>\n",
       "  </tbody>\n",
       "</table>\n",
       "</div>"
      ],
      "text/plain": [
       "                                             Relatos  \\\n",
       "0  Bom, o começo é sempre difícil e conturbado, p...   \n",
       "1  Nesse ano que se inicia acredito que viram mui...   \n",
       "2  Como eu já disse, nunca vai ser igual o ensino...   \n",
       "3  Minhas expectativas quanto ao ensino médio rem...   \n",
       "4  Devido à pandemia, a alternativa mais eficaz d...   \n",
       "5  Eu espero que seja organizado pra não sobrecar...   \n",
       "6  Conseguir compreender os assuntos de forma clara.   \n",
       "7  Acredito que com a experiência do ano passado,...   \n",
       "8  Espero que possa disponibilizar um ensino de q...   \n",
       "9  Aula online na minha opinião são um desafio, e...   \n",
       "\n",
       "                                  Relatos_Traduzidos  \\\n",
       "0  Well, the beginning is always difficult and tr...   \n",
       "1  This year I begun I believe they saw many chal...   \n",
       "2  As I have already said, it will never be equal...   \n",
       "3  My expectations regarding remote high school:\\...   \n",
       "4  Due to the pandemic, the most effective altern...   \n",
       "5  I hope it is organized not to overload the stu...   \n",
       "6                To understand the subjects clearly.   \n",
       "7  I believe that with the experience of last yea...   \n",
       "8  I hope it can make quality teaching and access...   \n",
       "9  Online class in my opinion are a challenge, es...   \n",
       "\n",
       "                                 Relatos_tokenizados  \\\n",
       "0  well beginning always difficult troubled get u...   \n",
       "1  this year i begun i believe saw many challenge...   \n",
       "2  as i already said never equal teaching i great...   \n",
       "3  my expectations regarding remote high school m...   \n",
       "4  due pandemic effective alternative study work ...   \n",
       "5  i hope organized overload student teacher i fe...   \n",
       "6                    to understand subjects clearly    \n",
       "7  i believe experience last year planned easier ...   \n",
       "8  i hope make quality teaching access everyone a...   \n",
       "9  online class opinion challenge especially stud...   \n",
       "\n",
       "                      Relatos_Traduzidos_Lematizados  \\\n",
       "0  well beginning always difficult troubled get u...   \n",
       "1  this year i begun i believe saw many challenge...   \n",
       "2  as i already said never equal teaching i great...   \n",
       "3  my expectations regarding remote high school m...   \n",
       "4  due pandemic effective alternative study work ...   \n",
       "5  i hope organized overload student teacher i fe...   \n",
       "6                    to understand subjects clearly    \n",
       "7  i believe experience last year planned easier ...   \n",
       "8  i hope make quality teaching access everyone a...   \n",
       "9  online class opinion challenge especially stud...   \n",
       "\n",
       "   Relatos_com_SentiStrength  \n",
       "0                          1  \n",
       "1                          0  \n",
       "2                          2  \n",
       "3                          2  \n",
       "4                          1  \n",
       "5                          2  \n",
       "6                          0  \n",
       "7                          0  \n",
       "8                          1  \n",
       "9                          1  "
      ]
     },
     "execution_count": 61,
     "metadata": {},
     "output_type": "execute_result"
    }
   ],
   "source": [
    "df['Relatos_com_SentiStrength'] = df['Relatos_Traduzidos_Lematizados'].apply(analisar_sentimentos)\n",
    "df.head(10)"
   ]
  },
  {
   "cell_type": "code",
   "execution_count": 62,
   "id": "513dd832",
   "metadata": {},
   "outputs": [],
   "source": [
    "df.to_csv('dados/df_com_analise_sentistrenght.csv', index = False)"
   ]
  },
  {
   "cell_type": "markdown",
   "id": "cc63a41d",
   "metadata": {},
   "source": [
    "## Analisando valores obtidos com o SentiStrength"
   ]
  },
  {
   "cell_type": "code",
   "execution_count": 63,
   "id": "0d3d6682",
   "metadata": {},
   "outputs": [
    {
     "data": {
      "text/plain": [
       " 0    57\n",
       " 1    57\n",
       " 2    42\n",
       "-1    30\n",
       "-2     4\n",
       "-3     3\n",
       " 3     3\n",
       "-4     1\n",
       "Name: Relatos_com_SentiStrength, dtype: int64"
      ]
     },
     "execution_count": 63,
     "metadata": {},
     "output_type": "execute_result"
    }
   ],
   "source": [
    "df['Relatos_com_SentiStrength'].value_counts()"
   ]
  },
  {
   "cell_type": "code",
   "execution_count": 64,
   "id": "e5252865",
   "metadata": {},
   "outputs": [
    {
     "data": {
      "text/html": [
       "<div>\n",
       "<style scoped>\n",
       "    .dataframe tbody tr th:only-of-type {\n",
       "        vertical-align: middle;\n",
       "    }\n",
       "\n",
       "    .dataframe tbody tr th {\n",
       "        vertical-align: top;\n",
       "    }\n",
       "\n",
       "    .dataframe thead th {\n",
       "        text-align: right;\n",
       "    }\n",
       "</style>\n",
       "<table border=\"1\" class=\"dataframe\">\n",
       "  <thead>\n",
       "    <tr style=\"text-align: right;\">\n",
       "      <th></th>\n",
       "      <th>Relatos_com_SentiStrength</th>\n",
       "    </tr>\n",
       "  </thead>\n",
       "  <tbody>\n",
       "    <tr>\n",
       "      <th>count</th>\n",
       "      <td>197.000000</td>\n",
       "    </tr>\n",
       "    <tr>\n",
       "      <th>mean</th>\n",
       "      <td>0.502538</td>\n",
       "    </tr>\n",
       "    <tr>\n",
       "      <th>std</th>\n",
       "      <td>1.219001</td>\n",
       "    </tr>\n",
       "    <tr>\n",
       "      <th>min</th>\n",
       "      <td>-4.000000</td>\n",
       "    </tr>\n",
       "    <tr>\n",
       "      <th>25%</th>\n",
       "      <td>0.000000</td>\n",
       "    </tr>\n",
       "    <tr>\n",
       "      <th>50%</th>\n",
       "      <td>1.000000</td>\n",
       "    </tr>\n",
       "    <tr>\n",
       "      <th>75%</th>\n",
       "      <td>1.000000</td>\n",
       "    </tr>\n",
       "    <tr>\n",
       "      <th>max</th>\n",
       "      <td>3.000000</td>\n",
       "    </tr>\n",
       "  </tbody>\n",
       "</table>\n",
       "</div>"
      ],
      "text/plain": [
       "       Relatos_com_SentiStrength\n",
       "count                 197.000000\n",
       "mean                    0.502538\n",
       "std                     1.219001\n",
       "min                    -4.000000\n",
       "25%                     0.000000\n",
       "50%                     1.000000\n",
       "75%                     1.000000\n",
       "max                     3.000000"
      ]
     },
     "execution_count": 64,
     "metadata": {},
     "output_type": "execute_result"
    }
   ],
   "source": [
    "df.describe()"
   ]
  },
  {
   "cell_type": "code",
   "execution_count": 65,
   "id": "013cb5eb",
   "metadata": {},
   "outputs": [],
   "source": [
    "import seaborn as sns\n",
    "sns.set_palette('Accent')\n",
    "sns.set_style('darkgrid')"
   ]
  },
  {
   "cell_type": "code",
   "execution_count": 66,
   "id": "3669aa69",
   "metadata": {},
   "outputs": [
    {
     "data": {
      "image/png": "[encoded data removed]",
      "text/plain": [
       "<Figure size 864x288 with 1 Axes>"
      ]
     },
     "metadata": {},
     "output_type": "display_data"
    }
   ],
   "source": [
    "ax = sns.histplot(df['Relatos_com_SentiStrength'], element='step', kde = 'True')\n",
    "ax.figure.set_size_inches(12,4)\n",
    "ax.set_title('Distribuição de Frequências', fontsize=20)\n",
    "ax.set_xlabel('Distribuição dos relatos', fontsize=16)\n",
    "ax.set_ylabel('Quantidade')\n",
    "ax = ax"
   ]
  },
  {
   "cell_type": "markdown",
   "id": "3673c22b",
   "metadata": {},
   "source": [
    "## Relatório de uso do SentiStrength"
   ]
  },
  {
   "cell_type": "markdown",
   "id": "dc60c9bf",
   "metadata": {},
   "source": [
    "> **Seu uso e a forma como ele faz as análises dos sentimentos é muito mais claro e simples de explicar (e utilizar) que o seu colega de trabalho SentiWordNet.**\n",
    ">> **Há formas mais bem elaboradas de trabalhar os dados, não quis me aprofundar devido à complexidade que isso se tornaria.**\n",
    ">>> **O objetivo do trabalho foi alcançado ao comparar a maneira de utilização das ferramentas e a forma como eles documentam as suas fórmulas de parametrização. Entre os dois, voto pela utilização do SentiStrength.**"
   ]
  },
  {
   "cell_type": "code",
   "execution_count": null,
   "id": "1d72a933",
   "metadata": {},
   "outputs": [],
   "source": []
  }
 ],
 "metadata": {
  "kernelspec": {
   "display_name": "Python 3",
   "language": "python",
   "name": "python3"
  },
  "language_info": {
   "codemirror_mode": {
    "name": "ipython",
    "version": 3
   },
   "file_extension": ".py",
   "mimetype": "text/x-python",
   "name": "python",
   "nbconvert_exporter": "python",
   "pygments_lexer": "ipython3",
   "version": "3.8.8"
  }
 },
 "nbformat": 4,
 "nbformat_minor": 5
}
